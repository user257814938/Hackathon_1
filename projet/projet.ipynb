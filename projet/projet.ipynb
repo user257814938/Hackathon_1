{
  "nbformat": 4,
  "nbformat_minor": 0,
  "metadata": {
    "colab": {
      "provenance": [],
      "authorship_tag": "ABX9TyOdG3/KlMcSwpMJbBlIGtQn",
      "include_colab_link": true
    },
    "kernelspec": {
      "name": "python3",
      "display_name": "Python 3"
    },
    "language_info": {
      "name": "python"
    }
  },
  "cells": [
    {
      "cell_type": "markdown",
      "metadata": {
        "id": "view-in-github",
        "colab_type": "text"
      },
      "source": [
        "<a href=\"https://colab.research.google.com/github/user257814938/Hackathon_1/blob/main/projet/projet.ipynb\" target=\"_parent\"><img src=\"https://colab.research.google.com/assets/colab-badge.svg\" alt=\"Open In Colab\"/></a>"
      ]
    },
    {
      "cell_type": "code",
      "execution_count": null,
      "metadata": {
        "id": "rB8mtycTGlOi"
      },
      "outputs": [],
      "source": [
        "# --- Installation des bibliothèques nécessaires (silencieuse avec -q) ---\n",
        "!pip -q install pandas numpy seaborn matplotlib scipy scikit-learn\n",
        "\n",
        "# --- Imports standards pour l'analyse de données ---\n",
        "import os                              # gérer les dossiers (ex: sauvegarde des figures)\n",
        "import numpy as np                     # calcul numérique (tableaux, stats de base)\n",
        "import pandas as pd                    # manipulation de tableaux de données (DataFrame)\n",
        "import matplotlib.pyplot as plt        # tracés/graphes de base\n",
        "import seaborn as sns                  # visualisations statistiques de haut niveau\n",
        "from scipy import stats                # tests statistiques (ttest, chi2, etc.)\n",
        "\n",
        "# --- Réglages d'affichage pandas pour mieux voir les colonnes ---\n",
        "pd.set_option(\"display.max_columns\", None)   # voir toutes les colonnes dans head()/info()\n",
        "pd.set_option(\"display.width\", 120)          # largeur d'affichage confortable\n",
        "\n",
        "# --- Style graphique par défaut pour des figures propres ---\n",
        "sns.set_theme(context=\"notebook\", style=\"whitegrid\")  # thème seaborn agréable\n",
        "plt.rcParams[\"figure.dpi\"] = 120                      # figures plus nettes\n"
      ]
    }
  ]
}